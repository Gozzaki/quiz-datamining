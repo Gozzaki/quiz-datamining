{
 "cells": [
  {
   "cell_type": "code",
   "execution_count": null,
   "metadata": {},
   "outputs": [],
   "source": [
    "import requests\n",
    "import pandas as pd"
   ]
  },
  {
   "cell_type": "code",
   "execution_count": null,
   "metadata": {},
   "outputs": [],
   "source": [
    "url = \"http://103.82.92.37/DM20232/getdata.php?table=transkip_nilai\"\n",
    "headers = {'api-key': \"DM20232UBP\"}\n",
    "response = requests.get(url, headers=headers)\n",
    "\n",
    "if response.status_code == 200:\n",
    "    data = response.json()\n",
    "    df_transkip_nilai = pd.DataFrame(data['data'])\n",
    "\n",
    "    # Menampilkan jumlah data yang diterima\n",
    "    jumlah_data = len(df_transkip_nilai)\n",
    "    print(\"Data yang diterima:\", jumlah_data)\n",
    "\n",
    "    # Menampilkan 10 data pertama sebagai tabel\n",
    "    display(df_transkip_nilai.head(10))\n",
    "else:\n",
    "    print(f\"Gagal mengambil data. Status code: {response.status_code} : {response.text}\")"
   ]
  },
  {
   "cell_type": "code",
   "execution_count": null,
   "metadata": {},
   "outputs": [],
   "source": [
    "# Hitung IPS per semester per mahasiswa\n",
    "ips_per_semester = df_transkip_nilai.groupby(['nim', 'semester', 'nama_mk'])['nilai_total'].mean().reset_index()\n",
    "display(ips_per_semester)"
   ]
  },
  {
   "cell_type": "code",
   "execution_count": null,
   "metadata": {},
   "outputs": [],
   "source": [
    "import requests\n",
    "import pandas as pd\n",
    "\n",
    "url = \"http://103.82.92.37/DM20232/getdata.php?table=ms_lulusan\"\n",
    "headers = {'api-key': \"DM20232UBP\"}\n",
    "response = requests.get(url, headers=headers)\n",
    "\n",
    "if response.status_code == 200:\n",
    "    data = response.json()\n",
    "    df_ms_lulusan = pd.DataFrame(data['data'])\n",
    "\n",
    "    # Menampilkan jumlah data yang diterima\n",
    "    jumlah_data = len(df_ms_lulusan)\n",
    "    print(\"Data yang diterima:\", jumlah_data)\n",
    "\n",
    "    # Menampilkan 10 data pertama sebagai tabel\n",
    "    display(df_ms_lulusan.head(10))\n",
    "else:\n",
    "    print(f\"Gagal mengambil data. Status code: {response.status_code} : {response.text}\")"
   ]
  },
  {
   "cell_type": "code",
   "execution_count": null,
   "metadata": {},
   "outputs": [],
   "source": [
    "# Gabungkan dengan dataset ms_lulusan\n",
    "merged_data = pd.merge(df_ms_lulusan, ips_per_semester, on='nim', how='left')\n",
    "display(merged_data)"
   ]
  },
  {
   "cell_type": "code",
   "execution_count": null,
   "metadata": {},
   "outputs": [],
   "source": [
    "# Konversi kolom tanggal_lulus dan tgl_masuk ke tipe data datetime\n",
    "merged_data['tanggal_lulus'] = pd.to_datetime(merged_data['tanggal_lulus'])\n",
    "merged_data['tgl_masuk'] = pd.to_datetime(merged_data['tgl_masuk'])\n",
    "\n",
    "# Hitung durasi studi\n",
    "merged_data['durasi_studi'] = (merged_data['tanggal_lulus'] - merged_data['tgl_masuk']).dt.days\n",
    "display(merged_data)"
   ]
  },
  {
   "cell_type": "code",
   "execution_count": null,
   "metadata": {},
   "outputs": [],
   "source": [
    "# Identifikasi nilai yang hilang atau tidak konsisten\n",
    "print(merged_data.isnull().sum())\n",
    "\n",
    "# Hapus baris dengan nilai yang hilang\n",
    "merged_data = merged_data.dropna()\n",
    "\n",
    "# Hapus mahasiswa pindahan (status_masuk == 1)\n",
    "merged_data = merged_data[merged_data['status_masuk'] == 0]\n",
    "display(merged_data)"
   ]
  },
  {
   "cell_type": "code",
   "execution_count": null,
   "metadata": {},
   "outputs": [],
   "source": [
    "# Standardisasi format tanggal\n",
    "merged_data['tanggal_lulus'] = merged_data['tanggal_lulus'].dt.strftime('%Y-%m-%d')\n",
    "\n",
    "# Standardisasi jenis kelamin (0: Perempuan, 1: Laki-laki)\n",
    "merged_data['jenis_kelamin'] = merged_data['jenis_kelamin'].map({0: 'Perempuan', 1: 'Laki-laki'})\n",
    "display(merged_data)"
   ]
  },
  {
   "cell_type": "markdown",
   "metadata": {},
   "source": [
    "analisis"
   ]
  },
  {
   "cell_type": "code",
   "execution_count": null,
   "metadata": {},
   "outputs": [],
   "source": [
    "# Identifikasi nilai-nilai yang hilang\n",
    "missing_values = merged_data['nilai_total'].isnull().sum()\n",
    "print(\"Jumlah nilai yang hilang:\", missing_values)\n",
    "\n",
    "# Penanganan nilai yang hilang\n",
    "# Misalnya, menggantikan nilai yang hilang dengan rata-rata dari kolom 'nilai_total'\n",
    "mean_nilai_total = merged_data['nilai_total'].mean()\n",
    "merged_data['nilai_total'] = merged_data['nilai_total'].fillna(mean_nilai_total)\n",
    "\n",
    "# Periksa kembali kriteria pemilihan data\n",
    "# Pastikan ada mahasiswa yang lulus tepat waktu dalam dataset\n",
    "if merged_data[merged_data['status_masuk'] == 0].empty:\n",
    "    print(\"Tidak ada mahasiswa yang lulus tepat waktu dalam dataset.\")\n",
    "else:\n",
    "    # Lakukan perhitungan rata-rata IPS lagi setelah menangani nilai yang hilang\n",
    "    ips_tepat_waktu = merged_data.loc[merged_data['status_masuk'] == 0, 'nilai_total'].mean()\n",
    "    print(\"Rata-rata IPS mahasiswa yang lulus tepat waktu setelah penanganan nilai yang hilang:\", ips_tepat_waktu)"
   ]
  },
  {
   "cell_type": "code",
   "execution_count": null,
   "metadata": {},
   "outputs": [],
   "source": [
    "import matplotlib.pyplot as plt\n",
    "\n",
    "# Hitung jumlah mahasiswa dengan predikat 'Pujian' yang lulus tepat waktu\n",
    "pujian_tepat_waktu = merged_data.loc[(merged_data['status_masuk'] == 0) & (merged_data['predikat'] == 'Pujian'), 'nim'].count()\n",
    "\n",
    "# Hitung total mahasiswa yang lulus tepat waktu\n",
    "total_tepat_waktu = merged_data.loc[merged_data['status_masuk'] == 0, 'nim'].count()\n",
    "\n",
    "# Hitung proporsi mahasiswa dengan predikat 'Pujian' yang lulus tepat waktu\n",
    "proporsi_pujian_tepat_waktu = pujian_tepat_waktu / total_tepat_waktu\n",
    "\n",
    "# Buat visualisasi menggunakan grafik pie\n",
    "labels = ['Pujian', 'Tidak Pujian']\n",
    "sizes = [proporsi_pujian_tepat_waktu, 1 - proporsi_pujian_tepat_waktu]\n",
    "colors = ['gold', 'lightcoral']\n",
    "explode = (0.1, 0)  # Pisahkan potongan 'Pujian'\n",
    "\n",
    "plt.pie(sizes, explode=explode, labels=labels, colors=colors, autopct='%1.1f%%', shadow=True, startangle=140)\n",
    "plt.axis('equal')  # Membuat pie chart menjadi lingkaran\n",
    "plt.title('Proporsi Mahasiswa dengan Predikat \"Pujian\" yang Lulus Tepat Waktu')\n",
    "plt.show()"
   ]
  },
  {
   "cell_type": "code",
   "execution_count": null,
   "metadata": {},
   "outputs": [],
   "source": [
    "# Lakukan one-hot encoding pada kolom 'predikat'\n",
    "merged_data = pd.get_dummies(merged_data, columns=['predikat'])\n",
    "\n",
    "# Hitung korelasi antara durasi studi dan predikat kelulusan\n",
    "korelasi_durasi_predikat = merged_data[['durasi_studi', 'predikat_Pujian']].corr()\n",
    "print(\"Korelasi antara durasi studi dan predikat kelulusan:\")\n",
    "print(korelasi_durasi_predikat)"
   ]
  },
  {
   "cell_type": "code",
   "execution_count": null,
   "metadata": {},
   "outputs": [],
   "source": [
    "# Ambil data durasi studi dan predikat_Pujian\n",
    "durasi_studi = merged_data['durasi_studi']\n",
    "predikat_pujian = merged_data['predikat_Pujian']\n",
    "\n",
    "# Buat scatter plot\n",
    "plt.figure(figsize=(10, 6))\n",
    "plt.scatter(durasi_studi, predikat_pujian, alpha=0.5)\n",
    "plt.title('Hubungan antara Durasi Studi dan Proporsi Mahasiswa dengan Predikat \"Pujian\" yang Lulus Tepat Waktu')\n",
    "plt.xlabel('Durasi Studi (hari)')\n",
    "plt.ylabel('Predikat \"Pujian\" (1: Ya, 0: Tidak)')\n",
    "plt.grid(True)\n",
    "plt.show()"
   ]
  },
  {
   "cell_type": "code",
   "execution_count": null,
   "metadata": {},
   "outputs": [],
   "source": [
    "# 4. Perbedaan prestasi akademik berdasarkan jenis kelamin\n",
    "nilai_total_jenis_kelamin = merged_data.groupby('jenis_kelamin')['nilai_total'].mean()\n",
    "print(\"Rata-rata nilai total berdasarkan jenis kelamin:\")\n",
    "print(nilai_total_jenis_kelamin)"
   ]
  }
 ],
 "metadata": {
  "kernelspec": {
   "display_name": "Python 3",
   "language": "python",
   "name": "python3"
  },
  "language_info": {
   "codemirror_mode": {
    "name": "ipython",
    "version": 3
   },
   "file_extension": ".py",
   "mimetype": "text/x-python",
   "name": "python",
   "nbconvert_exporter": "python",
   "pygments_lexer": "ipython3",
   "version": "3.11.3"
  }
 },
 "nbformat": 4,
 "nbformat_minor": 2
}
